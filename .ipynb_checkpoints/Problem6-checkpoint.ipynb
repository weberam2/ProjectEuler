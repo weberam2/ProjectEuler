{
 "cells": [
  {
   "cell_type": "markdown",
   "id": "f56c948b",
   "metadata": {},
   "source": [
    "# Problem 6\n",
    "\n",
    "The sum of the squares of the first ten natural numbers is,\n",
    "\n",
    "1^2 + 2^2 + ... 10^2 = 385\n",
    "\n",
    "The square of the sum of the first ten natural numbers is,\n",
    "\n",
    "(1 + 2 + ... + 10)^2 = 55^2 = 3025\n",
    "\n",
    "Hence the difference between the sum of the squares of the first ten natural numbers and the square of the sum is 3025 - 385 = 2650.\n",
    "\n",
    "Find the difference between the sum of the squares of the first one hundred natural numbers and the square of the sum."
   ]
  },
  {
   "cell_type": "code",
   "execution_count": 18,
   "id": "c15a7222",
   "metadata": {},
   "outputs": [],
   "source": [
    "def defsumsq(num):\n",
    "    sumsq = 0\n",
    "    sum = 0\n",
    "    for x in range(1,num+1):\n",
    "        sumsq += x**2\n",
    "        sum += x\n",
    "    sqsum = sum**2\n",
    "    print(sumsq)\n",
    "    print(sqsum)\n",
    "    print(\"The difference of the square of sums and the sum of squares of \", num, \" is \", sqsum-sumsq)"
   ]
  },
  {
   "cell_type": "code",
   "execution_count": 20,
   "id": "82334f4c",
   "metadata": {},
   "outputs": [
    {
     "name": "stdout",
     "output_type": "stream",
     "text": [
      "338350\n",
      "25502500\n",
      "The difference of the square of sums and the sum of squares of  100  is  25164150\n"
     ]
    }
   ],
   "source": [
    "defsumsq(100)"
   ]
  },
  {
   "cell_type": "code",
   "execution_count": 24,
   "id": "7ed0c5ce",
   "metadata": {},
   "outputs": [
    {
     "name": "stdout",
     "output_type": "stream",
     "text": [
      "25164150\n"
     ]
    }
   ],
   "source": [
    "num = 100\n",
    "s = sum(i for i in range(1,num+1))\n",
    "s2 = sum(i**2 for i in range(1,num+1))\n",
    "print(s**2 - s2)"
   ]
  },
  {
   "cell_type": "code",
   "execution_count": null,
   "id": "74b193a8",
   "metadata": {},
   "outputs": [],
   "source": []
  }
 ],
 "metadata": {
  "kernelspec": {
   "display_name": "Python 3 (ipykernel)",
   "language": "python",
   "name": "python3"
  },
  "language_info": {
   "codemirror_mode": {
    "name": "ipython",
    "version": 3
   },
   "file_extension": ".py",
   "mimetype": "text/x-python",
   "name": "python",
   "nbconvert_exporter": "python",
   "pygments_lexer": "ipython3",
   "version": "3.8.10"
  }
 },
 "nbformat": 4,
 "nbformat_minor": 5
}
