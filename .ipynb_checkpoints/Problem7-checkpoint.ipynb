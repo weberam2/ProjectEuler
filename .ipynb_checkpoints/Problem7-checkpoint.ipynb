{
 "cells": [
  {
   "cell_type": "markdown",
   "id": "6afd15fa",
   "metadata": {},
   "source": [
    "# Problem 7\n",
    "\n",
    "By listing the first six prime numbers: 2, 3, 5, 7, 11, and 13, we can see that the 6th prime is 13.\n",
    "\n",
    "What is the 10 001st prime number?"
   ]
  },
  {
   "cell_type": "code",
   "execution_count": 21,
   "id": "5b2a3cd7",
   "metadata": {},
   "outputs": [],
   "source": [
    "def primenum(num):\n",
    "    # all prime numbers are greater than 1\n",
    "    if num > 1:\n",
    "        i = 2\n",
    "        while i <= num:\n",
    "            if (num % i) == 0:\n",
    "                break\n",
    "            else:\n",
    "                i += 1\n",
    "            if i == num:\n",
    "                return i"
   ]
  },
  {
   "cell_type": "code",
   "execution_count": 49,
   "id": "847883b9",
   "metadata": {},
   "outputs": [],
   "source": [
    "def nthprimenum(num):\n",
    "    primelist = [2]\n",
    "    n = primelist[0]\n",
    "    i = 1\n",
    "    while i <= num:\n",
    "        n += 1\n",
    "        if primenum(n):\n",
    "            primelist.append(primenum(n))\n",
    "            i += 1\n",
    "        if i == num:\n",
    "            return primelist[-1]"
   ]
  },
  {
   "cell_type": "code",
   "execution_count": 50,
   "id": "50864e6c",
   "metadata": {},
   "outputs": [
    {
     "data": {
      "text/plain": [
       "104743"
      ]
     },
     "execution_count": 50,
     "metadata": {},
     "output_type": "execute_result"
    }
   ],
   "source": [
    "nthprimenum(10001)"
   ]
  },
  {
   "cell_type": "code",
   "execution_count": 83,
   "id": "f9daec60",
   "metadata": {},
   "outputs": [],
   "source": [
    "def nthprimenum2(num):\n",
    "    primelist = [2]\n",
    "    n = primelist[0]\n",
    "    i = 1\n",
    "    count = 0\n",
    "    while i <= num:\n",
    "        n += 1\n",
    "        for x in primelist:\n",
    "            if n % x == 0:\n",
    "                count += 1\n",
    "        if count == 0:\n",
    "            primelist.append(n)\n",
    "            i += 1\n",
    "        count = 0\n",
    "        if i == num:\n",
    "            return primelist[-1]\n"
   ]
  },
  {
   "cell_type": "code",
   "execution_count": 85,
   "id": "db27214d",
   "metadata": {},
   "outputs": [
    {
     "data": {
      "text/plain": [
       "104743"
      ]
     },
     "execution_count": 85,
     "metadata": {},
     "output_type": "execute_result"
    }
   ],
   "source": [
    "nthprimenum2(10001)"
   ]
  },
  {
   "cell_type": "code",
   "execution_count": null,
   "id": "3fc86e6f",
   "metadata": {},
   "outputs": [],
   "source": []
  }
 ],
 "metadata": {
  "kernelspec": {
   "display_name": "Python 3 (ipykernel)",
   "language": "python",
   "name": "python3"
  },
  "language_info": {
   "codemirror_mode": {
    "name": "ipython",
    "version": 3
   },
   "file_extension": ".py",
   "mimetype": "text/x-python",
   "name": "python",
   "nbconvert_exporter": "python",
   "pygments_lexer": "ipython3",
   "version": "3.8.10"
  }
 },
 "nbformat": 4,
 "nbformat_minor": 5
}
