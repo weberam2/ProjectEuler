{
 "cells": [
  {
   "cell_type": "markdown",
   "id": "49a01781",
   "metadata": {},
   "source": [
    "# Problem 5\n",
    "\n",
    "2520 is the smallest number that can be divided by each of the numbers from 1 to 10 without any remainder.\n",
    "\n",
    "What is the smallest positive number that is evenly divisible by all of the numbers from 1 to 20?"
   ]
  },
  {
   "cell_type": "code",
   "execution_count": 4,
   "id": "7f5181af",
   "metadata": {},
   "outputs": [],
   "source": [
    "def evendiv(large,small):\n",
    "    if (large % small == 0):\n",
    "        return True\n",
    "    else:\n",
    "        return False\n"
   ]
  },
  {
   "cell_type": "code",
   "execution_count": 37,
   "id": "b90a5e36",
   "metadata": {},
   "outputs": [],
   "source": [
    "def smallestevendiv(oneto):\n",
    "    smallest = 2520\n",
    "    n = oneto\n",
    "    while n > 0:\n",
    "        for x in range(oneto,0,-1):\n",
    "            if evendiv(smallest,x):\n",
    "                n -= 1\n",
    "            else:\n",
    "                n = oneto\n",
    "            smallest += 1\n",
    "    return smallest"
   ]
  },
  {
   "cell_type": "code",
   "execution_count": 38,
   "id": "e0cc57d4",
   "metadata": {},
   "outputs": [
    {
     "data": {
      "text/plain": [
       "232792560"
      ]
     },
     "execution_count": 38,
     "metadata": {},
     "output_type": "execute_result"
    }
   ],
   "source": [
    "smallestevendiv(20)"
   ]
  },
  {
   "cell_type": "code",
   "execution_count": 42,
   "id": "56dd4955",
   "metadata": {},
   "outputs": [],
   "source": [
    "import math\n",
    "def compute():\n",
    "    ans = 1\n",
    "    for i in range(1, 21):\n",
    "        ans *= i // math.gcd(i, ans)\n",
    "    return str(ans)"
   ]
  },
  {
   "cell_type": "code",
   "execution_count": 43,
   "id": "5beb6d8c",
   "metadata": {},
   "outputs": [
    {
     "data": {
      "text/plain": [
       "'232792560'"
      ]
     },
     "execution_count": 43,
     "metadata": {},
     "output_type": "execute_result"
    }
   ],
   "source": [
    "compute()"
   ]
  },
  {
   "cell_type": "code",
   "execution_count": null,
   "id": "829f0011",
   "metadata": {},
   "outputs": [],
   "source": []
  }
 ],
 "metadata": {
  "kernelspec": {
   "display_name": "Python 3 (ipykernel)",
   "language": "python",
   "name": "python3"
  },
  "language_info": {
   "codemirror_mode": {
    "name": "ipython",
    "version": 3
   },
   "file_extension": ".py",
   "mimetype": "text/x-python",
   "name": "python",
   "nbconvert_exporter": "python",
   "pygments_lexer": "ipython3",
   "version": "3.8.10"
  }
 },
 "nbformat": 4,
 "nbformat_minor": 5
}
