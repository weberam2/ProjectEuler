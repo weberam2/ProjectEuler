{
 "cells": [
  {
   "cell_type": "markdown",
   "id": "c232860b",
   "metadata": {},
   "source": [
    "# Problem 9\n",
    "\n",
    "A Pythagorean triplet is a set of three natural numbers, a < b < c, for which,\n",
    "\n",
    "a^2 + b^2 = c^2\n",
    "For example, 3^2 + 4^2 = 9 + 16 = 25 = 5^2.\n",
    "\n",
    "There exists exactly one Pythagorean triplet for which a + b + c = 1000.\n",
    "Find the product abc."
   ]
  },
  {
   "cell_type": "code",
   "execution_count": 29,
   "id": "901ffc23",
   "metadata": {},
   "outputs": [
    {
     "name": "stdout",
     "output_type": "stream",
     "text": [
      "a =  200  b =  375  c =  425\n",
      "a * b * c =  31875000\n"
     ]
    }
   ],
   "source": [
    "import math\n",
    "for x in range(1,1000):\n",
    "    for y in range(x,1000):\n",
    "        #print(x**2 + y**2)\n",
    "        c = x**2 + y**2\n",
    "        #print(math.sqrt(c))\n",
    "        if float(math.sqrt(c)) == int(math.sqrt(c)):\n",
    "            if (x + y + math.sqrt(c)) == 1000:\n",
    "                print(\"a = \", x, \" b = \", y, \" c = \", int(math.sqrt(c)))\n",
    "                print(\"a * b * c = \", x*y*int(math.sqrt(c)))\n",
    "        \n",
    "        "
   ]
  },
  {
   "cell_type": "code",
   "execution_count": null,
   "id": "645a1540",
   "metadata": {},
   "outputs": [],
   "source": []
  }
 ],
 "metadata": {
  "kernelspec": {
   "display_name": "Python 3 (ipykernel)",
   "language": "python",
   "name": "python3"
  },
  "language_info": {
   "codemirror_mode": {
    "name": "ipython",
    "version": 3
   },
   "file_extension": ".py",
   "mimetype": "text/x-python",
   "name": "python",
   "nbconvert_exporter": "python",
   "pygments_lexer": "ipython3",
   "version": "3.8.10"
  }
 },
 "nbformat": 4,
 "nbformat_minor": 5
}
