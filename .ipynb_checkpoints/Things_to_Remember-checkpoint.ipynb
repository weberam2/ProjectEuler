{
 "cells": [
  {
   "cell_type": "markdown",
   "id": "ba89f37d",
   "metadata": {},
   "source": [
    "# How to import\n",
    "\n",
    "\n"
   ]
  },
  {
   "cell_type": "code",
   "execution_count": 1,
   "id": "1fc69321",
   "metadata": {},
   "outputs": [],
   "source": [
    "import sys \n",
    "import os\n",
    "sys.path.append(os.path.abspath(\"/home/weberam2/Desktop/ProjectEuler/\"))\n",
    "from projeul import *"
   ]
  },
  {
   "cell_type": "markdown",
   "id": "572bc7aa",
   "metadata": {},
   "source": [
    "## How many prime numbers below number"
   ]
  },
  {
   "cell_type": "code",
   "execution_count": 4,
   "id": "b13b7faf",
   "metadata": {},
   "outputs": [
    {
     "data": {
      "text/plain": [
       "[2, 3, 5, 7]"
      ]
     },
     "execution_count": 4,
     "metadata": {},
     "output_type": "execute_result"
    }
   ],
   "source": [
    "primelist(10)"
   ]
  },
  {
   "cell_type": "markdown",
   "id": "8b597fe7",
   "metadata": {},
   "source": [
    "## How many numbers divide this number"
   ]
  },
  {
   "cell_type": "code",
   "execution_count": 5,
   "id": "c40dfff6",
   "metadata": {},
   "outputs": [
    {
     "data": {
      "text/plain": [
       "4"
      ]
     },
     "execution_count": 5,
     "metadata": {},
     "output_type": "execute_result"
    }
   ],
   "source": [
    "num_divisors(10)"
   ]
  },
  {
   "cell_type": "code",
   "execution_count": null,
   "id": "227abe45",
   "metadata": {},
   "outputs": [],
   "source": []
  }
 ],
 "metadata": {
  "kernelspec": {
   "display_name": "Python 3 (ipykernel)",
   "language": "python",
   "name": "python3"
  },
  "language_info": {
   "codemirror_mode": {
    "name": "ipython",
    "version": 3
   },
   "file_extension": ".py",
   "mimetype": "text/x-python",
   "name": "python",
   "nbconvert_exporter": "python",
   "pygments_lexer": "ipython3",
   "version": "3.8.10"
  }
 },
 "nbformat": 4,
 "nbformat_minor": 5
}
