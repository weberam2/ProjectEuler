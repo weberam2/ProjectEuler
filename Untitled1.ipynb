{
 "cells": [
  {
   "cell_type": "markdown",
   "id": "875ef431",
   "metadata": {},
   "source": [
    "# Problem 15\n",
    "\n",
    "Starting in the top left corner of a 2×2 grid, and only being able to move to the right and down, there are exactly 6 routes to the bottom right corner.\n",
    "\n",
    "\n",
    "How many such routes are there through a 20×20 grid?"
   ]
  },
  {
   "cell_type": "code",
   "execution_count": 9,
   "id": "9fc6c98f",
   "metadata": {},
   "outputs": [
    {
     "name": "stdout",
     "output_type": "stream",
     "text": [
      "Initial string rrdd\n",
      "Resultant permutations ['rrdd', 'rrdd', 'rdrd', 'rddr', 'rddr', 'rdrd', 'rrdd', 'rrdd', 'rdrd', 'rddr', 'rddr', 'rdrd', 'drrd', 'drdr', 'drrd', 'drdr', 'ddrr', 'ddrr', 'drdr', 'drrd', 'ddrr', 'ddrr', 'drdr', 'drrd']\n"
     ]
    }
   ],
   "source": [
    "# Python code to demonstrate\n",
    "# to find all permutation of\n",
    "# a given string\n",
    " \n",
    "# Initialising string\n",
    "ini_str = \"rrdd\"\n",
    " \n",
    "# Printing initial string\n",
    "print(\"Initial string\", ini_str)\n",
    " \n",
    "# Finding all permutation\n",
    "result = []\n",
    " \n",
    "def permute(data, i, length):\n",
    "    if i == length:\n",
    "        result.append(''.join(data) )\n",
    "    else:\n",
    "        for j in range(i, length):\n",
    "            # swap\n",
    "            data[i], data[j] = data[j], data[i]\n",
    "            permute(data, i + 1, length)\n",
    "            data[i], data[j] = data[j], data[i] \n",
    "permute(list(ini_str), 0, len(ini_str))\n",
    " \n",
    "# Printing result\n",
    "print(\"Resultant permutations\", str(result))"
   ]
  },
  {
   "cell_type": "code",
   "execution_count": 11,
   "id": "0e1574f3",
   "metadata": {},
   "outputs": [
    {
     "data": {
      "text/plain": [
       "6"
      ]
     },
     "execution_count": 11,
     "metadata": {},
     "output_type": "execute_result"
    }
   ],
   "source": [
    "len(set(result))"
   ]
  },
  {
   "cell_type": "code",
   "execution_count": 25,
   "id": "ec214065",
   "metadata": {},
   "outputs": [
    {
     "data": {
      "text/plain": [
       "24"
      ]
     },
     "execution_count": 25,
     "metadata": {},
     "output_type": "execute_result"
    }
   ],
   "source": [
    "import math\n",
    "math.factorial(4)"
   ]
  },
  {
   "cell_type": "code",
   "execution_count": 28,
   "id": "358e243d",
   "metadata": {},
   "outputs": [
    {
     "data": {
      "text/plain": [
       "4.0"
      ]
     },
     "execution_count": 28,
     "metadata": {},
     "output_type": "execute_result"
    }
   ],
   "source": [
    "24/6"
   ]
  },
  {
   "cell_type": "code",
   "execution_count": 12,
   "id": "8e187bb9",
   "metadata": {},
   "outputs": [
    {
     "data": {
      "text/plain": [
       "20"
      ]
     },
     "execution_count": 12,
     "metadata": {},
     "output_type": "execute_result"
    }
   ],
   "source": [
    "ini_str = \"rrrddd\"\n",
    "result = []\n",
    "permute(list(ini_str), 0, len(ini_str))\n",
    "len(set(result))"
   ]
  },
  {
   "cell_type": "code",
   "execution_count": 41,
   "id": "b42339d3",
   "metadata": {},
   "outputs": [
    {
     "data": {
      "text/plain": [
       "720"
      ]
     },
     "execution_count": 41,
     "metadata": {},
     "output_type": "execute_result"
    }
   ],
   "source": [
    "math.factorial(6)"
   ]
  },
  {
   "cell_type": "code",
   "execution_count": 27,
   "id": "cb4eec8c",
   "metadata": {},
   "outputs": [
    {
     "data": {
      "text/plain": [
       "36.0"
      ]
     },
     "execution_count": 27,
     "metadata": {},
     "output_type": "execute_result"
    }
   ],
   "source": [
    "math.factorial(6)/20"
   ]
  },
  {
   "cell_type": "code",
   "execution_count": 13,
   "id": "1837875f",
   "metadata": {},
   "outputs": [
    {
     "data": {
      "text/plain": [
       "70"
      ]
     },
     "execution_count": 13,
     "metadata": {},
     "output_type": "execute_result"
    }
   ],
   "source": [
    "ini_str = \"rrrrdddd\"\n",
    "result = []\n",
    "permute(list(ini_str), 0, len(ini_str))\n",
    "len(set(result))"
   ]
  },
  {
   "cell_type": "code",
   "execution_count": 35,
   "id": "3460b06a",
   "metadata": {},
   "outputs": [
    {
     "data": {
      "text/plain": [
       "576.0"
      ]
     },
     "execution_count": 35,
     "metadata": {},
     "output_type": "execute_result"
    }
   ],
   "source": [
    "math.factorial(8)/70"
   ]
  },
  {
   "cell_type": "code",
   "execution_count": 37,
   "id": "ad570fed",
   "metadata": {},
   "outputs": [
    {
     "data": {
      "text/plain": [
       "24.0"
      ]
     },
     "execution_count": 37,
     "metadata": {},
     "output_type": "execute_result"
    }
   ],
   "source": [
    "math.sqrt(576)"
   ]
  },
  {
   "cell_type": "code",
   "execution_count": 14,
   "id": "38c336bb",
   "metadata": {},
   "outputs": [
    {
     "data": {
      "text/plain": [
       "252"
      ]
     },
     "execution_count": 14,
     "metadata": {},
     "output_type": "execute_result"
    }
   ],
   "source": [
    "ini_str = \"rrrrrddddd\"\n",
    "result = []\n",
    "permute(list(ini_str), 0, len(ini_str))\n",
    "len(set(result))"
   ]
  },
  {
   "cell_type": "code",
   "execution_count": 33,
   "id": "f64d3cc0",
   "metadata": {},
   "outputs": [
    {
     "data": {
      "text/plain": [
       "3628800"
      ]
     },
     "execution_count": 33,
     "metadata": {},
     "output_type": "execute_result"
    }
   ],
   "source": [
    "math.factorial(10)"
   ]
  },
  {
   "cell_type": "code",
   "execution_count": 34,
   "id": "613cd13b",
   "metadata": {},
   "outputs": [
    {
     "data": {
      "text/plain": [
       "14400.0"
      ]
     },
     "execution_count": 34,
     "metadata": {},
     "output_type": "execute_result"
    }
   ],
   "source": [
    "math.factorial(10)/252"
   ]
  },
  {
   "cell_type": "code",
   "execution_count": 36,
   "id": "46fb7d5d",
   "metadata": {},
   "outputs": [
    {
     "data": {
      "text/plain": [
       "120.0"
      ]
     },
     "execution_count": 36,
     "metadata": {},
     "output_type": "execute_result"
    }
   ],
   "source": [
    "math.sqrt(14400)"
   ]
  },
  {
   "cell_type": "code",
   "execution_count": 38,
   "id": "ad8e025a",
   "metadata": {},
   "outputs": [
    {
     "data": {
      "text/plain": [
       "4.0"
      ]
     },
     "execution_count": 38,
     "metadata": {},
     "output_type": "execute_result"
    }
   ],
   "source": [
    "24/6"
   ]
  },
  {
   "cell_type": "code",
   "execution_count": 39,
   "id": "f71b95ac",
   "metadata": {},
   "outputs": [
    {
     "data": {
      "text/plain": [
       "5.0"
      ]
     },
     "execution_count": 39,
     "metadata": {},
     "output_type": "execute_result"
    }
   ],
   "source": [
    "120/24"
   ]
  },
  {
   "cell_type": "code",
   "execution_count": 43,
   "id": "e7654e7d",
   "metadata": {},
   "outputs": [
    {
     "data": {
      "text/plain": [
       "120"
      ]
     },
     "execution_count": 43,
     "metadata": {},
     "output_type": "execute_result"
    }
   ],
   "source": [
    "math.factorial(5)"
   ]
  },
  {
   "cell_type": "markdown",
   "id": "dc0eea9f",
   "metadata": {},
   "source": [
    "20x20 grid will have 20 Ds and 20 Rs\n",
    "so it should be 40!/(20!)**2"
   ]
  },
  {
   "cell_type": "code",
   "execution_count": 47,
   "id": "a91709b8",
   "metadata": {},
   "outputs": [
    {
     "data": {
      "text/plain": [
       "137846528820"
      ]
     },
     "execution_count": 47,
     "metadata": {},
     "output_type": "execute_result"
    }
   ],
   "source": [
    "int(math.factorial(40)/(math.factorial(20))**2)"
   ]
  },
  {
   "cell_type": "code",
   "execution_count": null,
   "id": "1e74e9fa",
   "metadata": {},
   "outputs": [],
   "source": []
  }
 ],
 "metadata": {
  "kernelspec": {
   "display_name": "Python 3 (ipykernel)",
   "language": "python",
   "name": "python3"
  },
  "language_info": {
   "codemirror_mode": {
    "name": "ipython",
    "version": 3
   },
   "file_extension": ".py",
   "mimetype": "text/x-python",
   "name": "python",
   "nbconvert_exporter": "python",
   "pygments_lexer": "ipython3",
   "version": "3.8.10"
  }
 },
 "nbformat": 4,
 "nbformat_minor": 5
}
