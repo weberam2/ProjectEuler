{
 "cells": [
  {
   "cell_type": "markdown",
   "id": "e3208e8b",
   "metadata": {},
   "source": [
    "# Problem\n",
    "\n",
    "If we list all the natural numbers below 10 that are multiples of 3 or 5, we get 3, 5, 6 and 9. The sum of these multiples is 23.\n",
    "\n",
    "Find the sum of all the multiples of 3 or 5 below 1000."
   ]
  },
  {
   "cell_type": "code",
   "execution_count": 21,
   "id": "dac75df5",
   "metadata": {},
   "outputs": [],
   "source": [
    "def sumtuplesnum(allnum,fac):\n",
    "    numlist = []\n",
    "    numlist = [x for x in range(1,allnum)]\n",
    "    #print(numlist)\n",
    "    factors = []\n",
    "    for nums in numlist:\n",
    "        for numf in fac:\n",
    "            if nums % numf == 0:\n",
    "                factors.append(nums)\n",
    "    print(sum(factors))\n",
    "    \n"
   ]
  },
  {
   "cell_type": "code",
   "execution_count": 22,
   "id": "e7283a48",
   "metadata": {},
   "outputs": [
    {
     "name": "stdout",
     "output_type": "stream",
     "text": [
      "23\n"
     ]
    }
   ],
   "source": [
    "sumtuplesnum(10,[3,5])"
   ]
  },
  {
   "cell_type": "code",
   "execution_count": 23,
   "id": "3cfa84e1",
   "metadata": {},
   "outputs": [
    {
     "name": "stdout",
     "output_type": "stream",
     "text": [
      "266333\n"
     ]
    }
   ],
   "source": [
    "sumtuplesnum(1000,[3,5])"
   ]
  },
  {
   "cell_type": "code",
   "execution_count": null,
   "id": "3b096d9f",
   "metadata": {},
   "outputs": [],
   "source": []
  }
 ],
 "metadata": {
  "kernelspec": {
   "display_name": "Python 3 (ipykernel)",
   "language": "python",
   "name": "python3"
  },
  "language_info": {
   "codemirror_mode": {
    "name": "ipython",
    "version": 3
   },
   "file_extension": ".py",
   "mimetype": "text/x-python",
   "name": "python",
   "nbconvert_exporter": "python",
   "pygments_lexer": "ipython3",
   "version": "3.8.10"
  }
 },
 "nbformat": 4,
 "nbformat_minor": 5
}
