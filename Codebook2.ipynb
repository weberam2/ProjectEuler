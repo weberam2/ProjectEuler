{
 "cells": [
  {
   "cell_type": "markdown",
   "id": "bcad856d",
   "metadata": {},
   "source": [
    "# Codebook 2"
   ]
  },
  {
   "cell_type": "code",
   "execution_count": 1,
   "id": "d273585c",
   "metadata": {},
   "outputs": [],
   "source": [
    "encrypted=\"MHILY LZA ZBHL XBPZXBL MVYABUHL HWWPBZ JSHBKPBZ JHLJBZ KPJABT HYJHUBT LZA ULBAYVU\""
   ]
  },
  {
   "cell_type": "code",
   "execution_count": 2,
   "id": "cbab7827",
   "metadata": {},
   "outputs": [],
   "source": [
    "def rotate(input,d): \n",
    "  \n",
    "    # slice string in two parts for left and right \n",
    "    first = input[0 : d] \n",
    "    second = input[d :] \n",
    "    new = second + first\n",
    "    return(new)"
   ]
  },
  {
   "cell_type": "code",
   "execution_count": 5,
   "id": "844675f5",
   "metadata": {},
   "outputs": [],
   "source": [
    "alph=\"ABCDEFGHIJKLMNOPQRSTUVWXYZ\""
   ]
  },
  {
   "cell_type": "code",
   "execution_count": 9,
   "id": "658b08da",
   "metadata": {},
   "outputs": [
    {
     "name": "stdout",
     "output_type": "stream",
     "text": [
      "BCDEFGHIJKLMNOPQRSTUVWXYZA\n"
     ]
    }
   ],
   "source": [
    "newalph = rotate(alph,1)\n",
    "print(newalph)"
   ]
  },
  {
   "cell_type": "code",
   "execution_count": 11,
   "id": "478359d5",
   "metadata": {},
   "outputs": [
    {
     "name": "stdout",
     "output_type": "stream",
     "text": [
      "LGHKX KYZ YAGK WAOYWAK LUXZATGK GVVOAY IRGAJOAY IGKIAY JOIZAS GXIGTAS KYZ TKAZXUT\n",
      "KFGJW JXY XZFJ VZNXVZJ KTWYZSFJ FUUNZX HQFZINZX HFJHZX INHYZR FWHFSZR JXY SJZYWTS\n",
      "JEFIV IWX WYEI UYMWUYI JSVXYREI ETTMYW GPEYHMYW GEIGYW HMGXYQ EVGERYQ IWX RIYXVSR\n",
      "IDEHU HVW VXDH TXLVTXH IRUWXQDH DSSLXV FODXGLXV FDHFXV GLFWXP DUFDQXP HVW QHXWURQ\n",
      "HCDGT GUV UWCG SWKUSWG HQTVWPCG CRRKWU ENCWFKWU ECGEWU FKEVWO CTECPWO GUV PGWVTQP\n",
      "GBCFS FTU TVBF RVJTRVF GPSUVOBF BQQJVT DMBVEJVT DBFDVT EJDUVN BSDBOVN FTU OFVUSPO\n",
      "FABER EST SUAE QUISQUE FORTUNAE APPIUS CLAUDIUS CAECUS DICTUM ARCANUM EST NEUTRON\n",
      "EZADQ DRS RTZD PTHRPTD ENQSTMZD ZOOHTR BKZTCHTR BZDBTR CHBSTL ZQBZMTL DRS MDTSQNM\n",
      "DYZCP CQR QSYC OSGQOSC DMPRSLYC YNNGSQ AJYSBGSQ AYCASQ BGARSK YPAYLSK CQR LCSRPML\n",
      "CXYBO BPQ PRXB NRFPNRB CLOQRKXB XMMFRP ZIXRAFRP ZXBZRP AFZQRJ XOZXKRJ BPQ KBRQOLK\n",
      "BWXAN AOP OQWA MQEOMQA BKNPQJWA WLLEQO YHWQZEQO YWAYQO ZEYPQI WNYWJQI AOP JAQPNKJ\n",
      "AVWZM ZNO NPVZ LPDNLPZ AJMOPIVZ VKKDPN XGVPYDPN XVZXPN YDXOPH VMXVIPH ZNO IZPOMJI\n",
      "ZUVYL YMN MOUY KOCMKOY ZILNOHUY UJJCOM WFUOXCOM WUYWOM XCWNOG ULWUHOG YMN HYONLIH\n",
      "YTUXK XLM LNTX JNBLJNX YHKMNGTX TIIBNL VETNWBNL VTXVNL WBVMNF TKVTGNF XLM GXNMKHG\n",
      "XSTWJ WKL KMSW IMAKIMW XGJLMFSW SHHAMK UDSMVAMK USWUMK VAULME SJUSFME WKL FWMLJGF\n",
      "WRSVI VJK JLRV HLZJHLV WFIKLERV RGGZLJ TCRLUZLJ TRVTLJ UZTKLD RITRELD VJK EVLKIFE\n",
      "VQRUH UIJ IKQU GKYIGKU VEHJKDQU QFFYKI SBQKTYKI SQUSKI TYSJKC QHSQDKC UIJ DUKJHED\n",
      "UPQTG THI HJPT FJXHFJT UDGIJCPT PEEXJH RAPJSXJH RPTRJH SXRIJB PGRPCJB THI CTJIGDC\n",
      "TOPSF SGH GIOS EIWGEIS TCFHIBOS ODDWIG QZOIRWIG QOSQIG RWQHIA OFQOBIA SGH BSIHFCB\n",
      "SNORE RFG FHNR DHVFDHR SBEGHANR NCCVHF PYNHQVHF PNRPHF QVPGHZ NEPNAHZ RFG ARHGEBA\n",
      "RMNQD QEF EGMQ CGUECGQ RADFGZMQ MBBUGE OXMGPUGE OMQOGE PUOFGY MDOMZGY QEF ZQGFDAZ\n",
      "QLMPC PDE DFLP BFTDBFP QZCEFYLP LAATFD NWLFOTFD NLPNFD OTNEFX LCNLYFX PDE YPFECZY\n",
      "PKLOB OCD CEKO AESCAEO PYBDEXKO KZZSEC MVKENSEC MKOMEC NSMDEW KBMKXEW OCD XOEDBYX\n",
      "OJKNA NBC BDJN ZDRBZDN OXACDWJN JYYRDB LUJDMRDB LJNLDB MRLCDV JALJWDV NBC WNDCAXW\n",
      "NIJMZ MAB ACIM YCQAYCM NWZBCVIM IXXQCA KTICLQCA KIMKCA LQKBCU IZKIVCU MAB VMCBZWV\n",
      "MHILY LZA ZBHL XBPZXBL MVYABUHL HWWPBZ JSHBKPBZ JHLJBZ KPJABT HYJHUBT LZA ULBAYVU\n"
     ]
    }
   ],
   "source": [
    "for i in range(1,26+1):\n",
    "    newalph = rotate(alph,i)\n",
    "    decryptedtable= encrypted.maketrans(newalph, alph, \"\")\n",
    "    decrypted = encrypted.translate(decryptedtable)\n",
    "    print(decrypted)"
   ]
  },
  {
   "cell_type": "markdown",
   "id": "5e79a069",
   "metadata": {},
   "source": [
    "NEUTRON"
   ]
  }
 ],
 "metadata": {
  "kernelspec": {
   "display_name": "Python 3 (ipykernel)",
   "language": "python",
   "name": "python3"
  },
  "language_info": {
   "codemirror_mode": {
    "name": "ipython",
    "version": 3
   },
   "file_extension": ".py",
   "mimetype": "text/x-python",
   "name": "python",
   "nbconvert_exporter": "python",
   "pygments_lexer": "ipython3",
   "version": "3.8.10"
  }
 },
 "nbformat": 4,
 "nbformat_minor": 5
}
