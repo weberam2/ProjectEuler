{
 "cells": [
  {
   "cell_type": "markdown",
   "id": "82b25a60",
   "metadata": {},
   "source": [
    "# Problem 10\n",
    "\n",
    "The sum of the primes below 10 is 2 + 3 + 5 + 7 = 17.\n",
    "\n",
    "Find the sum of all the primes below two million."
   ]
  },
  {
   "cell_type": "code",
   "execution_count": 30,
   "id": "599bd670",
   "metadata": {},
   "outputs": [],
   "source": [
    "def primenum(num):\n",
    "    # all prime numbers are greater than 1\n",
    "    if num > 1:\n",
    "        i = 2\n",
    "        while i <= num:\n",
    "            if (num % i) == 0:\n",
    "                break\n",
    "            else:\n",
    "                i += 1\n",
    "            if i == num:\n",
    "                return i"
   ]
  },
  {
   "cell_type": "code",
   "execution_count": 77,
   "id": "02a25338",
   "metadata": {},
   "outputs": [],
   "source": [
    "def primenumlessthan(num):\n",
    "    primelist = [2]\n",
    "    n = primelist[0]\n",
    "    i = 1\n",
    "    while True:\n",
    "        n += 1\n",
    "        if primelist[-1] >= num:\n",
    "            return primelist[:-1]\n",
    "        if primenum(n):\n",
    "            primelist.append(primenum(n))\n",
    "            i += 1\n",
    "        "
   ]
  },
  {
   "cell_type": "code",
   "execution_count": 89,
   "id": "8912f380",
   "metadata": {},
   "outputs": [
    {
     "name": "stdout",
     "output_type": "stream",
     "text": [
      "The start time is : 65566.465056184\n",
      "The time difference is : 287.4292480830045\n"
     ]
    }
   ],
   "source": [
    "sum(primenumlessthan(10))\n",
    "#import timeit\n",
    "#print(timeit.timeit('stmt = sum(primenumlessthan(10))'))\n",
    "\n",
    "starttime = timeit.default_timer()\n",
    "print(\"The start time is :\",starttime)\n",
    "sum(primenumlessthan(200000))\n",
    "print(\"The time difference is :\", timeit.default_timer() - starttime)\n"
   ]
  },
  {
   "cell_type": "code",
   "execution_count": 90,
   "id": "7f6a7ef0",
   "metadata": {},
   "outputs": [],
   "source": [
    "def primenumlessthan2(num):\n",
    "    primelist = [2]\n",
    "    n = primelist[0]\n",
    "    while True:\n",
    "        n += 1\n",
    "        if primelist[-1] >= num:\n",
    "            return primelist[:-1]\n",
    "        y=0\n",
    "        for x in primelist:\n",
    "            if (n % x == 0):\n",
    "                pass\n",
    "            else:\n",
    "                y += 1\n",
    "            if y == len(primelist):\n",
    "                primelist.append(n)\n",
    "\n",
    "        "
   ]
  },
  {
   "cell_type": "code",
   "execution_count": 83,
   "id": "daee4dbe",
   "metadata": {},
   "outputs": [
    {
     "data": {
      "text/plain": [
       "1060"
      ]
     },
     "execution_count": 83,
     "metadata": {},
     "output_type": "execute_result"
    }
   ],
   "source": [
    "sum(primenumlessthan2(100))"
   ]
  },
  {
   "cell_type": "code",
   "execution_count": 91,
   "id": "d7814b84",
   "metadata": {},
   "outputs": [
    {
     "name": "stdout",
     "output_type": "stream",
     "text": [
      "The start time is : 65899.46136648\n",
      "The time difference is : 195.19592489500064\n"
     ]
    }
   ],
   "source": [
    "starttime = timeit.default_timer()\n",
    "print(\"The start time is :\",starttime)\n",
    "sum(primenumlessthan2(200000))\n",
    "print(\"The time difference is :\", timeit.default_timer() - starttime)"
   ]
  },
  {
   "cell_type": "code",
   "execution_count": 105,
   "id": "c5942c8c",
   "metadata": {},
   "outputs": [],
   "source": [
    "def primelist(N):\n",
    "    # We will find all primes in the range 1 to 120\n",
    "    # is_prime[i] = 1 means that i is prime and is_prime[i] = 0 means that i is composite\n",
    "    # Initially, we say all of them are prime\n",
    "    is_prime = [1]*N\n",
    "    # We know 0 and 1 are composites\n",
    "    is_prime[0] = 0\n",
    "    is_prime[1] = 0\n",
    "\n",
    "    def sieve():\n",
    "        \"\"\"\n",
    "        We cross out all composites from 2 to sqrt(N)\n",
    "        \"\"\"\n",
    "        i = 2\n",
    "        # This will loop from 2 to int(sqrt(x))\n",
    "        while i*i <= N:\n",
    "            # If we already crossed out this number, then continue\n",
    "            if is_prime[i] == 0:\n",
    "                i += 1\n",
    "                continue\n",
    "\n",
    "            j = 2*i\n",
    "            while j < N:\n",
    "                # Cross out this as it is composite\n",
    "                is_prime[j] = 0\n",
    "                # j is incremented by i, because we want to cover all multiples of i\n",
    "                j += i\n",
    "\n",
    "            i += 1\n",
    "\n",
    "    sieve()\n",
    "    primelist = []\n",
    "    for i in range(1, N):\n",
    "        if is_prime[i] == 1:\n",
    "            primelist.append(i) \n",
    "    return primelist\n",
    "\n"
   ]
  },
  {
   "cell_type": "code",
   "execution_count": 108,
   "id": "7631fba0",
   "metadata": {},
   "outputs": [
    {
     "data": {
      "text/plain": [
       "142913828922"
      ]
     },
     "execution_count": 108,
     "metadata": {},
     "output_type": "execute_result"
    }
   ],
   "source": [
    "sum(primelist(2000000))"
   ]
  },
  {
   "cell_type": "code",
   "execution_count": 111,
   "id": "0e021aa0",
   "metadata": {},
   "outputs": [
    {
     "data": {
      "text/plain": [
       "[2, 3, 5, 7]"
      ]
     },
     "execution_count": 111,
     "metadata": {},
     "output_type": "execute_result"
    }
   ],
   "source": [
    "import sys \n",
    "import os\n",
    "sys.path.append(os.path.abspath(\"/home/weberam2/Desktop/ProjectEuler/\"))\n",
    "from projeul import *\n",
    "primelist(10)"
   ]
  },
  {
   "cell_type": "code",
   "execution_count": null,
   "id": "32506696",
   "metadata": {},
   "outputs": [],
   "source": []
  }
 ],
 "metadata": {
  "kernelspec": {
   "display_name": "Python 3 (ipykernel)",
   "language": "python",
   "name": "python3"
  },
  "language_info": {
   "codemirror_mode": {
    "name": "ipython",
    "version": 3
   },
   "file_extension": ".py",
   "mimetype": "text/x-python",
   "name": "python",
   "nbconvert_exporter": "python",
   "pygments_lexer": "ipython3",
   "version": "3.8.10"
  }
 },
 "nbformat": 4,
 "nbformat_minor": 5
}
