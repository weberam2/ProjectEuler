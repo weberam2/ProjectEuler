{
 "cells": [
  {
   "cell_type": "markdown",
   "id": "126f79de",
   "metadata": {},
   "source": [
    "# Problem 4\n",
    "\n",
    "A palindromic number reads the same both ways. The largest palindrome made from the product of two 2-digit numbers is 9009 = 91 × 99.\n",
    "\n",
    "Find the largest palindrome made from the product of two 3-digit numbers."
   ]
  },
  {
   "cell_type": "code",
   "execution_count": 56,
   "id": "4c57c564",
   "metadata": {},
   "outputs": [],
   "source": [
    "import math\n",
    "\n",
    "def palin(string):\n",
    "    string = str(string)\n",
    "    #print(string[1])\n",
    "    #print(len(string))\n",
    "    if (len(string) % 2) != 0:\n",
    "        #print(\"odd\")\n",
    "        middle = string[math.ceil(len(string)/2)-1]\n",
    "        #print(middle)\n",
    "        beg = string[:math.floor(len(string)/2)]\n",
    "        #print(beg)\n",
    "        end = string[math.ceil(len(string)/2):]\n",
    "        #print(end[::-1])\n",
    "        if beg == end[::-1]:\n",
    "            #print(\"Palindrome\")\n",
    "            return True\n",
    "        else:\n",
    "            #print(\"not Palindrome\")\n",
    "            return False\n",
    "    else:\n",
    "        beg = string[:math.floor(len(string)/2)]\n",
    "        end = string[math.ceil(len(string)/2):]\n",
    "        if beg == end[::-1]:\n",
    "            #print(\"Palindrome\")\n",
    "            return True\n",
    "        else:\n",
    "            #print(\"not Palindrome\")\n",
    "            return False"
   ]
  },
  {
   "cell_type": "code",
   "execution_count": 111,
   "id": "f3d958fb",
   "metadata": {},
   "outputs": [
    {
     "name": "stdout",
     "output_type": "stream",
     "text": [
      "906609\n"
     ]
    }
   ],
   "source": [
    "z = []\n",
    "for x in range(999,100,-1):\n",
    "    for y in range(999,100,-1):\n",
    "        z.append(x*y)\n",
    "z.sort(reverse=True)\n",
    "#print(z[:4])\n",
    "for x in z:\n",
    "    if palin(x):\n",
    "        print(x)\n",
    "        break\n"
   ]
  },
  {
   "cell_type": "code",
   "execution_count": null,
   "id": "85d0f053",
   "metadata": {},
   "outputs": [],
   "source": []
  }
 ],
 "metadata": {
  "kernelspec": {
   "display_name": "Python 3 (ipykernel)",
   "language": "python",
   "name": "python3"
  },
  "language_info": {
   "codemirror_mode": {
    "name": "ipython",
    "version": 3
   },
   "file_extension": ".py",
   "mimetype": "text/x-python",
   "name": "python",
   "nbconvert_exporter": "python",
   "pygments_lexer": "ipython3",
   "version": "3.8.10"
  }
 },
 "nbformat": 4,
 "nbformat_minor": 5
}
