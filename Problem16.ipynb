{
 "cells": [
  {
   "cell_type": "markdown",
   "id": "e70b4dbb",
   "metadata": {},
   "source": [
    "# Problem 16\n",
    "\n",
    "2^15 = 32768 and the sum of its digits is 3 + 2 + 7 + 6 + 8 = 26.\n",
    "\n",
    "What is the sum of the digits of the number 2^1000?"
   ]
  },
  {
   "cell_type": "code",
   "execution_count": 5,
   "id": "14a5af03",
   "metadata": {},
   "outputs": [],
   "source": [
    "lst = str(2**15)"
   ]
  },
  {
   "cell_type": "code",
   "execution_count": 6,
   "id": "84b3d844",
   "metadata": {},
   "outputs": [
    {
     "data": {
      "text/plain": [
       "'32768'"
      ]
     },
     "execution_count": 6,
     "metadata": {},
     "output_type": "execute_result"
    }
   ],
   "source": [
    "lst"
   ]
  },
  {
   "cell_type": "code",
   "execution_count": 7,
   "id": "af3bcddf",
   "metadata": {},
   "outputs": [
    {
     "data": {
      "text/plain": [
       "5"
      ]
     },
     "execution_count": 7,
     "metadata": {},
     "output_type": "execute_result"
    }
   ],
   "source": [
    "len(lst)"
   ]
  },
  {
   "cell_type": "code",
   "execution_count": 35,
   "id": "b5867326",
   "metadata": {},
   "outputs": [],
   "source": [
    "def sum2pwr(num):\n",
    "    lst = str(2**num)\n",
    "    newlst = []\n",
    "    for i in range(0,len(lst)):\n",
    "        newlst.append(int(lst[i]))\n",
    "    # Converting integer list to string list\n",
    "    \n",
    "    return sum(newlst)"
   ]
  },
  {
   "cell_type": "code",
   "execution_count": 36,
   "id": "4f02fa52",
   "metadata": {},
   "outputs": [
    {
     "data": {
      "text/plain": [
       "26"
      ]
     },
     "execution_count": 36,
     "metadata": {},
     "output_type": "execute_result"
    }
   ],
   "source": [
    "sum2pwr(15)"
   ]
  },
  {
   "cell_type": "code",
   "execution_count": 44,
   "id": "5360f648",
   "metadata": {},
   "outputs": [
    {
     "data": {
      "text/plain": [
       "1366"
      ]
     },
     "execution_count": 44,
     "metadata": {},
     "output_type": "execute_result"
    }
   ],
   "source": [
    "sum2pwr(1000)"
   ]
  },
  {
   "cell_type": "code",
   "execution_count": null,
   "id": "f0306591",
   "metadata": {},
   "outputs": [],
   "source": []
  }
 ],
 "metadata": {
  "kernelspec": {
   "display_name": "Python 3 (ipykernel)",
   "language": "python",
   "name": "python3"
  },
  "language_info": {
   "codemirror_mode": {
    "name": "ipython",
    "version": 3
   },
   "file_extension": ".py",
   "mimetype": "text/x-python",
   "name": "python",
   "nbconvert_exporter": "python",
   "pygments_lexer": "ipython3",
   "version": "3.8.10"
  }
 },
 "nbformat": 4,
 "nbformat_minor": 5
}
